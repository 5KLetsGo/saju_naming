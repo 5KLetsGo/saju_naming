{
 "cells": [
  {
   "cell_type": "code",
   "execution_count": null,
   "metadata": {
    "id": "z2LDZbO6vY2E"
   },
   "outputs": [],
   "source": [
    "import pandas as pd"
   ]
  },
  {
   "cell_type": "code",
   "execution_count": null,
   "metadata": {
    "colab": {
     "base_uri": "https://localhost:8080/"
    },
    "id": "6RdoBpjY0Brz",
    "outputId": "9deb0401-5a31-4550-ba57-27acd3823412"
   },
   "outputs": [
    {
     "name": "stdout",
     "output_type": "stream",
     "text": [
      "                              question  \\\n",
      "0  인명한자 중 자원오행 목에 해당하는 한자와 그 뜻, 음을 알려줘   \n",
      "1  인명한자 중 자원오행 화에 해당하는 한자와 그 뜻, 음을 알려줘   \n",
      "2  인명한자 중 자원오행 금에 해당하는 한자와 그 뜻, 음을 알려줘   \n",
      "3  인명한자 중 자원오행 토에 해당하는 한자와 그 뜻, 음을 알려줘   \n",
      "4  인명한자 중 자원오행 수에 해당하는 한자와 그 뜻, 음을 알려줘   \n",
      "\n",
      "                                              answer  \n",
      "0  한자: 筵 뜻: 대자리, 대로 엮은 자리, 자리, 주연, 연회 음: 연\\n한자: 秪...  \n",
      "1  한자: 鬆 뜻: 소나무,더벅머리, 소나무 , 더벅머리 , 성의 하나 , 느슨하다 ,...  \n",
      "2  한자: 瑈 뜻: 옥 이름, 옥 이름 음: 유\\n한자: 鑽 뜻: 끌, 끌, 빈형(발을...  \n",
      "3  한자: 蹣 뜻: 넘을, 넘다 , 뛰어넘다 , 비틀거리다, 비틀거리며 가는 모양 음:...  \n",
      "4  한자: 池 뜻: 연못, 못, 해자(성 밖을 둘러싼 못) 음: 지\\n한자: 又 뜻: ...  \n"
     ]
    }
   ],
   "source": [
    "mean_five_elements_hanja_prompt = pd.DataFrame(columns=['question', 'answer'])\n",
    "\n",
    "i = 0\n",
    "for element in ['목', '화', '금', '토', '수']:\n",
    "  question = \"인명한자 중 자원오행 {}에 해당하는 한자와 그 뜻, 음을 알려줘\".format(element)\n",
    "  hanja_list = df[['Hanja', 'mean', 'sound']][df['meanFiveElements'] == element].values.tolist()\n",
    "  hanja_list = list(map(lambda x: '한자: {}'.format(x[0]) + ' 뜻: {}'.format(x[1]) + ' 음: {}'.format(x[2]), hanja_list))\n",
    "  answer = '\\n'.join(hanja_list[:300])\n",
    "  mean_five_elements_hanja_prompt.loc[i] = [question, answer]\n",
    "  i += 1\n",
    "\n",
    "print(mean_five_elements_hanja_prompt)"
   ]
  },
  {
   "cell_type": "code",
   "execution_count": null,
   "metadata": {
    "id": "ydoTbkUL9ns9"
   },
   "outputs": [],
   "source": [
    "mean_five_elements_hanja_prompt.to_csv('../mean_five_elements_hanja_prompt.csv', index=False)"
   ]
  }
 ],
 "metadata": {
  "colab": {
   "provenance": []
  },
  "kernelspec": {
   "display_name": "Python 3 (ipykernel)",
   "language": "python",
   "name": "python3"
  },
  "language_info": {
   "codemirror_mode": {
    "name": "ipython",
    "version": 3
   },
   "file_extension": ".py",
   "mimetype": "text/x-python",
   "name": "python",
   "nbconvert_exporter": "python",
   "pygments_lexer": "ipython3",
   "version": "3.11.9"
  }
 },
 "nbformat": 4,
 "nbformat_minor": 4
}
