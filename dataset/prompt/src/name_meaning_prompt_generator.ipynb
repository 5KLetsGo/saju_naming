{
 "cells": [
  {
   "cell_type": "markdown",
   "id": "5f63b768-2b4e-4226-9916-f746638fb0fa",
   "metadata": {},
   "source": [
    "# 이름 의미 해석하는 prompt 제작"
   ]
  },
  {
   "cell_type": "code",
   "execution_count": 1,
   "id": "501769b9-77b7-47f9-a0df-007282161a89",
   "metadata": {},
   "outputs": [],
   "source": [
    "import pandas as pd"
   ]
  },
  {
   "cell_type": "code",
   "execution_count": 2,
   "id": "6d34bc32-cb9a-41a1-9d27-7f2f3a3ae289",
   "metadata": {},
   "outputs": [],
   "source": [
    "df_csv = pd.DataFrame(columns = [\n",
    "    'question',\n",
    "    'answer'\n",
    "])"
   ]
  },
  {
   "cell_type": "code",
   "execution_count": 5,
   "id": "fe3f6cb9-51c2-45b7-9140-f736f93df449",
   "metadata": {},
   "outputs": [
    {
     "name": "stdout",
     "output_type": "stream",
     "text": [
      "자연스럽게 성장하고 발전하는 에너지와 창의적인 힘을 가진 사람\n",
      "\n"
     ]
    }
   ],
   "source": [
    "def mean_split(filename):\n",
    "    name_question = []\n",
    "    name_answer = []\n",
    "    name_str = ''\n",
    "    i = 0\n",
    "    with open(f'./categorized_name_hanja_mean/{filename}.txt', 'r', encoding='utf-8') as f:\n",
    "        while True:\n",
    "            i += 1\n",
    "            line = f.readline()\n",
    "            name_str += line\n",
    "            if i == 3:\n",
    "                name_question.append(name_str)\n",
    "                name_str = ''\n",
    "            elif i == 4:\n",
    "                name_answer.append(name_str)\n",
    "                name_str = ''\n",
    "            if line == '\\n':\n",
    "                name_str = ''\n",
    "                i = 0\n",
    "            if not line:\n",
    "                break\n",
    "    return [name_question, name_answer]\n",
    "\n",
    "f_woodwood = mean_split('female_names_목목')\n",
    "f_woodfire = mean_split('female_names_목화')\n",
    "f_woodwater = mean_split('female_names_목수')\n",
    "f_woodmetal = mean_split('female_names_목금')\n",
    "f_woodearth = mean_split('female_names_목토')\n",
    "f_firefire = mean_split('female_names_화화')\n",
    "f_firewater = mean_split('female_names_화수')\n",
    "f_firemetal = mean_split('female_names_화금')\n",
    "f_fireearth = mean_split('female_names_화토')\n",
    "f_waterwater = mean_split('female_names_수수')\n",
    "f_watermetal = mean_split('female_names_수금')\n",
    "f_waterearth = mean_split('female_names_수토')\n",
    "f_metalmetal = mean_split('female_names_금금')\n",
    "f_metalearth = mean_split('female_names_금토')\n",
    "f_earthearth = mean_split('female_names_토토')\n",
    "\n",
    "m_woodwood = mean_split('male_names_목목')\n",
    "m_woodfire = mean_split('male_names_목화')\n",
    "m_woodwater = mean_split('male_names_목수')\n",
    "m_woodmetal = mean_split('male_names_목금')\n",
    "m_woodearth = mean_split('male_names_목토')\n",
    "m_firefire = mean_split('male_names_화화')\n",
    "m_firewater = mean_split('male_names_화수')\n",
    "m_firemetal = mean_split('male_names_화금')\n",
    "m_fireearth = mean_split('male_names_화토')\n",
    "m_waterwater = mean_split('male_names_수수')\n",
    "m_watermetal = mean_split('male_names_수금')\n",
    "m_waterearth = mean_split('male_names_수토')\n",
    "m_metalmetal = mean_split('male_names_금금')\n",
    "m_metalearth = mean_split('male_names_금토')\n",
    "m_earthearth = mean_split('male_names_토토')\n",
    "\n",
    "print(f_woodwood[1][1][4:])"
   ]
  },
  {
   "cell_type": "code",
   "execution_count": 6,
   "id": "e8bf4df7-e6e8-4dce-8cf8-7d91d03449bc",
   "metadata": {},
   "outputs": [
    {
     "name": "stdout",
     "output_type": "stream",
     "text": [
      "540\n"
     ]
    }
   ],
   "source": [
    "cnt = 0\n",
    "for prompt in [f_woodwood, f_woodfire, f_woodwater, f_woodmetal, f_woodearth, f_firefire, f_firewater, f_firemetal, f_fireearth, f_waterwater, f_watermetal, f_waterearth, f_metalmetal, f_metalearth, f_earthearth, m_woodwood, m_woodfire, m_woodwater, m_woodmetal, m_woodearth, m_firefire, m_firewater, m_firemetal, m_fireearth, m_waterwater, m_watermetal, m_waterearth, m_metalmetal, m_metalearth, m_earthearth]:\n",
    "    for i in range(18):\n",
    "        df_csv.loc[cnt] = [f'''{prompt[0][i]}\n",
    "이 이름의 의미를 풀이해''', f'{prompt[1][i][4:]}']\n",
    "        cnt += 1\n",
    "\n",
    "print(cnt)"
   ]
  },
  {
   "cell_type": "code",
   "execution_count": 7,
   "id": "9a443977-0816-43c7-ac66-b4916d740df1",
   "metadata": {},
   "outputs": [
    {
     "data": {
      "text/plain": [
       "question    예지(芸摯)\\n예(芸): 재주, 자원오행 목\\n지(摯): 잡을, 자원오행 목\\n\\n...\n",
       "answer                                나무처럼 꾸준히 성장하고 발전하는 사람\\n\n",
       "Name: 0, dtype: object"
      ]
     },
     "execution_count": 7,
     "metadata": {},
     "output_type": "execute_result"
    }
   ],
   "source": [
    "df_csv.loc[0]"
   ]
  },
  {
   "cell_type": "code",
   "execution_count": 8,
   "id": "9f4b6a9a-3d10-4fa7-8e39-e260fe9ec987",
   "metadata": {},
   "outputs": [],
   "source": [
    "df_csv.to_csv('../name_meaning_prompt.csv', index=False)"
   ]
  },
  {
   "cell_type": "code",
   "execution_count": null,
   "id": "11ab93ea-68ae-41f4-b74f-274448bf6e90",
   "metadata": {},
   "outputs": [],
   "source": []
  }
 ],
 "metadata": {
  "kernelspec": {
   "display_name": "Python 3 (ipykernel)",
   "language": "python",
   "name": "python3"
  },
  "language_info": {
   "codemirror_mode": {
    "name": "ipython",
    "version": 3
   },
   "file_extension": ".py",
   "mimetype": "text/x-python",
   "name": "python",
   "nbconvert_exporter": "python",
   "pygments_lexer": "ipython3",
   "version": "3.11.9"
  }
 },
 "nbformat": 4,
 "nbformat_minor": 5
}
