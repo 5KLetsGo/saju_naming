{
 "cells": [
  {
   "cell_type": "code",
   "execution_count": 1,
   "id": "e0bd57b5-f7fa-4698-80dd-8e92eec3a27c",
   "metadata": {},
   "outputs": [],
   "source": [
    "import pandas as pd"
   ]
  },
  {
   "cell_type": "code",
   "execution_count": 2,
   "id": "85a3de54-d123-40d7-b6ec-003241fd8715",
   "metadata": {},
   "outputs": [
    {
     "name": "stdout",
     "output_type": "stream",
     "text": [
      "       question                                             answer\n",
      "0  한국 여자 이름 지어줘  지희,예림,민주,수민,수지,지유,나경,인영,다현,진경,채윤,수연,채원,나은,세은,예...\n"
     ]
    }
   ],
   "source": [
    "question = \"한국 여자 이름 지어줘\"\n",
    "df = pd.read_csv('../../crawled/female_names.csv')\n",
    "names = df['Name'].values.tolist()\n",
    "answer = ','.join(names)\n",
    "\n",
    "female_name_prompt = pd.DataFrame(columns=['question', 'answer'])\n",
    "female_name_prompt.loc[0] = [question, answer]\n",
    "\n",
    "print(female_name_prompt)\n",
    "female_name_prompt.to_csv('../female_names_prompt.csv', index=False)"
   ]
  },
  {
   "cell_type": "code",
   "execution_count": null,
   "id": "c15bf13b-eaa6-42af-b472-b8fb5e7705d4",
   "metadata": {},
   "outputs": [],
   "source": [
    "question = \"한국 남자 이름 지어줘\"\n",
    "df = pd.read_csv('../../crawled//male_names.csv')\n",
    "names = df['Name'].values.tolist()\n",
    "answer = ','.join(names)\n",
    "\n",
    "male_name_prompt = pd.DataFrame(columns=['question', 'answer'])\n",
    "male_name_prompt.loc[0] = [question, answer]\n",
    "\n",
    "print(male_name_prompt)\n",
    "male_name_prompt.to_csv('../male_names_prompt.csv', index=False)"
   ]
  },
  {
   "cell_type": "code",
   "execution_count": null,
   "id": "de0a9539-4867-40e9-9950-983daec53fd2",
   "metadata": {},
   "outputs": [],
   "source": [
    "# 남자 이름과 여자 이름 중복 제거\n",
    "# 모델이 남자 이름과 여자 이름을 잘 구분할 수 있도록 남녀 이름에 모두 포함되는 이름을 제거함\n",
    "\n",
    "# female_name_prompt.csv와 male_name_prompt.csv 파일을 읽습니다.\n",
    "female_df = pd.read_csv('../female_names_prompt.csv')\n",
    "male_df = pd.read_csv('../male_names_prompt.csv')\n",
    "\n",
    "# 2행 2열에 있는 이름 데이터를 ','로 구분하여 분리\n",
    "female_names = female_df.iloc[0, 1].strip('\"').split(',')\n",
    "male_names = male_df.iloc[0, 1].strip('\"').split(',')\n",
    "\n",
    "# 각 이름 리스트에서 공백 제거\n",
    "female_names = [name.strip() for name in female_names]\n",
    "male_names = [name.strip() for name in male_names]\n",
    "\n",
    "# 양쪽 데이터에 중복되는 이름 찾기\n",
    "common_names = set(female_names).intersection(set(male_names))\n",
    "\n",
    "# 공통된 이름을 제거한 리스트 생성\n",
    "female_names_updated = [name for name in female_names if name not in common_names]\n",
    "male_names_updated = [name for name in male_names if name not in common_names]\n",
    "\n",
    "# 제거된 이름이 반영된 데이터를 다시 문자열로 변환\n",
    "female_df.iloc[0, 1] = '\"' + ','.join(female_names_updated) + '\"'\n",
    "male_df.iloc[0, 1] = '\"' + ','.join(male_names_updated) + '\"'\n",
    "\n",
    "# 수정된 데이터를 새로운 CSV 파일로 저장\n",
    "female_df.to_csv('../female_names_prompt_deduplication.csv', index=False)\n",
    "male_df.to_csv('../male_names_prompt_deduplication.csv', index=False)\n",
    "\n",
    "# 결과 출력\n",
    "print(\"수정된 여성 이름들:\", female_names_updated)\n",
    "print(\"수정된 남성 이름들:\", male_names_updated)\n"
   ]
  }
 ],
 "metadata": {
  "kernelspec": {
   "display_name": "Python 3 (ipykernel)",
   "language": "python",
   "name": "python3"
  },
  "language_info": {
   "codemirror_mode": {
    "name": "ipython",
    "version": 3
   },
   "file_extension": ".py",
   "mimetype": "text/x-python",
   "name": "python",
   "nbconvert_exporter": "python",
   "pygments_lexer": "ipython3",
   "version": "3.11.9"
  }
 },
 "nbformat": 4,
 "nbformat_minor": 5
}
