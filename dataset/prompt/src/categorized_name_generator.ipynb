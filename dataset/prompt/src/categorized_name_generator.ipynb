{
 "cells": [
  {
   "cell_type": "code",
   "execution_count": null,
   "metadata": {
    "id": "wKTQ_ZFR71db"
   },
   "outputs": [],
   "source": [
    "import pandas as pd\n",
    "from pandas import DataFrame\n",
    "import random\n",
    "import itertools"
   ]
  },
  {
   "cell_type": "code",
   "execution_count": null,
   "metadata": {
    "id": "xl-SUkDQ8H6y"
   },
   "outputs": [],
   "source": [
    "hanja = pd.read_csv('../../crawled/good_naming_hanja_filtered.csv')"
   ]
  },
  {
   "cell_type": "code",
   "execution_count": null,
   "metadata": {
    "colab": {
     "base_uri": "https://localhost:8080/"
    },
    "id": "INSVbqqn8Q01",
    "outputId": "50099884-aaa6-4396-ea0d-7c7423df5709"
   },
   "outputs": [
    {
     "name": "stdout",
     "output_type": "stream",
     "text": [
      "     Hanja mean sound meanFiveElements soundFiveElements\n",
      "0        筵  대자리     연                목                토화\n",
      "1        鬆  소나무     송                화                금토\n",
      "2        秪   다만     지                목                 금\n",
      "3        爟   봉화     관                화                목화\n",
      "4        瑈    옥     유                금                 토\n",
      "...    ...  ...   ...              ...               ...\n",
      "5744     菡   연꽃     함                목                토수\n",
      "5745     攬   가질     람                목                화수\n",
      "5746     鄗    땅     호                토                 토\n",
      "5747     囀  지저귈     전                수                금화\n",
      "5748     釦   금테     구                금                 목\n",
      "\n",
      "[5749 rows x 5 columns]\n"
     ]
    }
   ],
   "source": [
    "print(hanja)"
   ]
  },
  {
   "cell_type": "code",
   "execution_count": null,
   "metadata": {
    "id": "dCTVAFyNPTah"
   },
   "outputs": [],
   "source": [
    "def find_hanja_combinations_in_name(name):\n",
    "  sangmyungja = hanja[hanja['sound'] == name[0]]\n",
    "  hamyungja = hanja[hanja['sound'] == name[1]]\n",
    "\n",
    "  if sangmyungja.empty or hamyungja.empty:\n",
    "    return []\n",
    "  else:\n",
    "    hanja_combination = []\n",
    "    for i, sr in sangmyungja.iterrows():\n",
    "      for j, hr in hamyungja.iterrows():\n",
    "        hanja_combination.append((sr, hr))\n",
    "    return hanja_combination"
   ]
  },
  {
   "cell_type": "code",
   "execution_count": null,
   "metadata": {
    "id": "cURhmw1e9Ujg"
   },
   "outputs": [],
   "source": [
    "class NameTemplate:\n",
    "\n",
    "    def __init__(self, sangmyungja, hamyungja):\n",
    "        self.__sangmyungja_sound = sangmyungja['sound']\n",
    "        self.__sangmyungja_hanja = sangmyungja['Hanja']\n",
    "        self.__sangmyungja_mean = sangmyungja['mean']\n",
    "        self.__sangmyungja_five_elements = sangmyungja['meanFiveElements']\n",
    "        self.__hamyungja_sound = hamyungja['sound']\n",
    "        self.__hamyungja_hanja = hamyungja['Hanja']\n",
    "        self.__hamyungja_mean = hamyungja['mean']\n",
    "        self.__hamyungja_five_elements = hamyungja['meanFiveElements']\n",
    "        self.__five_element_combination_keys = set([\"목목\",\"목화\",\"목수\",\"목금\",\"목토\",\"화화\",\"화수\",\"화금\",\"화토\",\"수수\",\"수금\",\"수토\",\"금금\",\"금토\",\"토토\"])\n",
    "\n",
    "    def korean_name(self):\n",
    "        korean_name = f\"{self.__sangmyungja_sound}{self.__hamyungja_sound}\"\n",
    "        return korean_name\n",
    "\n",
    "    def hanja_name(self):\n",
    "        hanja_name = f\"{self.__sangmyungja_hanja}{self.__hamyungja_hanja}\"\n",
    "        return hanja_name\n",
    "\n",
    "    def sangmyungja_sound_mean(self):\n",
    "        sangmyungja_sound_mean = f\"{self.__sangmyungja_sound}({self.__sangmyungja_hanja}): {self.__sangmyungja_mean}\"\n",
    "        return sangmyungja_sound_mean\n",
    "\n",
    "    def sangmyungja_five_elements(self):\n",
    "        five_elements = f\"자원오행 {self.__sangmyungja_five_elements}\"\n",
    "        return five_elements\n",
    "\n",
    "    def hamyungja_sound_mean(self):\n",
    "        sound_mean = f\"{self.__hamyungja_sound}({self.__hamyungja_hanja}): {self.__hamyungja_mean}\"\n",
    "        return sound_mean\n",
    "\n",
    "    def hamyungja_five_elements(self):\n",
    "        five_elements = f\"자원오행 {self.__hamyungja_five_elements}\"\n",
    "        return five_elements\n",
    "\n",
    "    def five_elements_combination(self):\n",
    "        c1 = f\"{self.__sangmyungja_five_elements}{self.__hamyungja_five_elements}\"\n",
    "        c2 = f\"{self.__hamyungja_five_elements}{self.__sangmyungja_five_elements}\"\n",
    "        if c1 in self.__five_element_combination_keys:\n",
    "            return c1\n",
    "        elif c2 in self.__five_element_combination_keys:\n",
    "            return c2\n",
    "        else:\n",
    "            return \"불가능\"\n",
    "\n",
    "    def __str__(self):\n",
    "        return f\"{self.korean_name()}({self.hanja_name()})\\n{self.sangmyungja_sound_mean()}, {self.sangmyungja_five_elements()}\\n{self.hamyungja_sound_mean()}, {self.hamyungja_five_elements()}\""
   ]
  },
  {
   "cell_type": "code",
   "execution_count": null,
   "metadata": {
    "id": "dRu15E4S9C9P"
   },
   "outputs": [],
   "source": [
    "index_limit = len(hanja)\n",
    "def generate_random_name():\n",
    "  i = random.randint(0, index_limit)\n",
    "  j = random.randint(0, index_limit)\n",
    "  sangmyungja = hanja.loc[i]\n",
    "  hamyungja = hanja.loc[j]\n",
    "\n",
    "  name_template = NameTemplate(sangmyungja, hamyungja)\n",
    "  return name_template"
   ]
  },
  {
   "cell_type": "code",
   "execution_count": null,
   "metadata": {
    "colab": {
     "base_uri": "https://localhost:8080/"
    },
    "id": "1_MNjh_99s-b",
    "outputId": "616e4e23-de3b-4432-c43f-5c93ab32e3e0"
   },
   "outputs": [
    {
     "name": "stdout",
     "output_type": "stream",
     "text": [
      "현삭(㢺蒴)\n",
      "현(㢺): 활, 자원오행 화\n",
      "삭(蒴): 삭조, 자원오행 목\n"
     ]
    }
   ],
   "source": [
    "name = generate_random_name()\n",
    "print(name)"
   ]
  },
  {
   "cell_type": "code",
   "execution_count": null,
   "metadata": {
    "id": "gwyAjQjh9vrI"
   },
   "outputs": [],
   "source": [
    "categorized_male_names = {\n",
    "    \"목목\": [],\n",
    "    \"목화\": [],\n",
    "    \"목수\": [],\n",
    "    \"목금\": [],\n",
    "    \"목토\": [],\n",
    "    \"화화\": [],\n",
    "    \"화수\": [],\n",
    "    \"화금\": [],\n",
    "    \"화토\": [],\n",
    "    \"수수\": [],\n",
    "    \"수금\": [],\n",
    "    \"수토\": [],\n",
    "    \"금금\": [],\n",
    "    \"금토\": [],\n",
    "    \"토토\": [],\n",
    "}"
   ]
  },
  {
   "cell_type": "code",
   "execution_count": null,
   "metadata": {
    "id": "K2TV--DKSsgw"
   },
   "outputs": [],
   "source": [
    "male_names = pd.read_csv('../../crawled/male_names.csv')"
   ]
  },
  {
   "cell_type": "code",
   "execution_count": null,
   "metadata": {
    "colab": {
     "base_uri": "https://localhost:8080/"
    },
    "id": "92oXzxJKlYRC",
    "outputId": "618e0604-9548-4ada-93ea-b8d133b33c19"
   },
   "outputs": [
    {
     "name": "stdout",
     "output_type": "stream",
     "text": [
      "['시후', '대한', '상민', '정우', '정수', '범준', '민혁', '태경', '민준', '민찬', '성빈', '진우', '주현', '지성', '현빈', '찬형', '동훈', '완기', '도현', '영천', '찬희', '태빈', '태규', '재민', '성현', '채화', '예찬', '태윤', '한울', '대건', '태현', '범수', '현태', '성욱', '준서', '수호', '지운', '예준', '경용', '광재', '은찬', '현석', '승원', '승우', '태환', '동영', '현준', '성민', '승재', '민희', '태훈', '민재', '성준', '민성', '한결', '강현', '성제', '지환', '서준', '태우', '태민', '희수', '지혁', '준호', '준혁', '현민', '유청', '주호', '규민', '승빈', '효수', '승환', '민석', '준석', '윤혁', '건우', '승민', '민규', '승준', '은후', '현우', '상준', '지훈', '준모', '동혁', '수훈', '재윤', '제백', '태영', '영민', '준우', '유찬', '재훈', '도윤', '민호', '준성', '정훈', '주성', '정현', '준영', '재혁', '지완', '재원', '지석', '민수', '동현', '동건', '상현', '현욱', '윤호', '민우', '민기', '재현', '재영', '승주', '민건', '승찬', '현성', '승훈', '규현', '주환', '예성', '환희', '태준', '우빈', '우성', '성우', '유준', '건호', '도훈', '하준', '강민', '윤우', '의진', '윤성', '승호', '현근', '세완', '하울', '동하', '석현', '송산', '준범', '정호', '형우', '대겸', '남연', '준수', '현호', '동우', '정재', '강령', '경준', '준원', '도영', '태호', '현규', '현동', '은호', '시원', '원준', '승혁', '시환', '연호', '윤재', '기훈', '찬용', '보관', '대호', '라율', '동윤', '두원', '승수', '요셉', '종혁', '상윤', '대운', '근호', '윤건', '도담', '동근', '진형', '민승', '민종', '민협', '호준', '남국', '주한', '윤교', '승유', '도율', '동진', '규종', '동욱', '우현', '철준', '감찬', '정빈', '승후', '형욱', '창환', '제우', '희찬', '주윤', '시율', '민결', '윤후', '세현', '윤결', '휘종', '도진', '택훈', '기석', '현조', '서후', '수혁', '민창', '민균', '재한', '종준', '정규', '용성', '세찬', '민율', '원재', '무성', '지한', '태양', '재균', '찬율', '나단', '찬영', '영광', '양현', '주완', '풍태', '은준', '찬혁', '요나', '원교', '호진', '시완', '재범', '찬우', '문승', '미르', '상우', '아준', '준민', '윤준', '지오', '준현', '재상', '홍경', '재림', '성주', '시호', '재준', '의현', '이준', '대현', '여민', '동화', '강준', '정후', '용기', '홍기', '유대', '한겸', '수명', '채빈', '창현', '서형', '진온', '해준', '고든', '사강', '자은', '성윤', '원혁', '여준', '용휘', '재우', '재하', '찬규', '운서', '섭리', '도건', '예겸', '성호', '동준', '진웅', '연준', '유노', '시안', '기언', '태오', '승윤', '병국', '한율', '리창', '시언', '하성', '지빈', '세종', '은혁', '리한', '준세', '경수', '교이', '민표', '현사', '온유', '지용', '상호', '도경', '희준', '로디', '은수', '용우', '필연', '보겸', '용주', '서호', '도하', '도겸', '부건', '하운', '도준', '하랑', '류진', '이헌', '호윤', '단우', '케니', '동형', '로이', '민형', '로훈', '건후', '건영', '찬현', '이한', '시훈', '유건', '건률', '남현', '선호', '동주', '근원', '우준', '희로', '탄고', '태하', '우찬', '아탐', '로원', '종빈', '승안', '태욱', '하늘', '해든', '다림', '도한', '로한', '영현', '기림', '노아', '호영', '종현', '리호', '해승', '도운', '요한', '용준', '경주', '유지', '도원', '세준', '가일', '로건', '신우', '이도', '루이', '우건', '리환', '해야', '강유', '다헌', '유온', '조훈', '영준', '강윤', '이건', '정석', '병윤', '윤영', '세온', '이찬', '카이', '신원', '지강', '효준', '산들', '정환', '강우']\n"
     ]
    }
   ],
   "source": [
    "male_name_filtered = male_names[~male_names['Name'].isin(['지안', '시윤', '이든', '현진', '민서', '현서', '하율', '승리', '한솔', '지후', '규빈', '재이', '가온', '유현', '연우', '선율', '우주', '시온', '지온', '태은', '시하', '수안', '정원', '서윤', '서현', '유안', '지민', '하민', '하람', '해담', '시현', '유빈', '나율', '태율', '이안', '은성', '정인', '유민', '하루', '리온', '우진', '아인', '이현', '서율', ' 정현', '선우', '서인', '하빈', '로운', '태이', '성연', '수현', '하담', '지율', '유하', '지원', '하진', '경민', '선유', '건희', '리안', '주안', '현수', '주원', '로희', '준희', '서원', ' 하늘', '지우', '재인', '주영', '서빈', '시우', '라온', '채민', '도연', '지호', '이진', '수민', '은우', '승현', '다온', '지유', '서진', '서우', '정민', '이수', '유솔', '희원', '기타', ' 하랑', '다현', '하온'])]\n",
    "names = male_name_filtered['Name'].to_list()\n",
    "print(names)"
   ]
  },
  {
   "cell_type": "code",
   "execution_count": null,
   "metadata": {
    "id": "mlRGI4dgEBj9"
   },
   "outputs": [],
   "source": [
    "for name in names:\n",
    "  hanja_combinations = find_hanja_combinations_in_name(name)\n",
    "  for hc in hanja_combinations:\n",
    "    name_template = NameTemplate(hc[0], hc[1])\n",
    "    five_element_combination = name_template.five_elements_combination()\n",
    "    if five_element_combination in categorized_male_names:\n",
    "      categorized_male_names[five_element_combination].append(name_template)"
   ]
  },
  {
   "cell_type": "code",
   "execution_count": null,
   "metadata": {
    "colab": {
     "base_uri": "https://localhost:8080/"
    },
    "id": "4FPRjsBbWagi",
    "outputId": "48db3ac4-5645-4d6c-a3bf-ada6ddd2a6de"
   },
   "outputs": [
    {
     "name": "stdout",
     "output_type": "stream",
     "text": [
      "목목\n",
      "len: 23380\n",
      "목화\n",
      "len: 34950\n",
      "목수\n",
      "len: 31646\n",
      "목금\n",
      "len: 29309\n",
      "목토\n",
      "len: 30647\n",
      "화화\n",
      "len: 12641\n",
      "화수\n",
      "len: 22841\n",
      "화금\n",
      "len: 21640\n",
      "화토\n",
      "len: 22562\n",
      "수수\n",
      "len: 10397\n",
      "수금\n",
      "len: 19500\n",
      "수토\n",
      "len: 20506\n",
      "금금\n",
      "len: 9064\n",
      "금토\n",
      "len: 19290\n",
      "토토\n",
      "len: 9846\n"
     ]
    }
   ],
   "source": [
    "for k,v in categorized_male_names.items():\n",
    "    print(k)\n",
    "    print(f\"len: {len(v)}\")\n",
    "    random.shuffle(v)\n",
    "    chunked_list = [v[i:i+3] for i in range(0, len(v), 3)]\n",
    "    # chunked 개수 조정\n",
    "    chunked_list = chunked_list[:100]\n",
    "    with open(f\"./categorized_name_hanja/male_names_{k}.txt\", \"w\") as f:\n",
    "    for chunk in chunked_list:\n",
    "      for nt in chunk:\n",
    "        f.write(f\"{nt}\\n\\n\")\n",
    "      f.write(\"\\n\")"
   ]
  },
  {
   "cell_type": "code",
   "execution_count": null,
   "metadata": {
    "id": "JtQdzMtcaWjD"
   },
   "outputs": [],
   "source": [
    "categorized_female_names = {\n",
    "    \"목목\": [],\n",
    "    \"목화\": [],\n",
    "    \"목수\": [],\n",
    "    \"목금\": [],\n",
    "    \"목토\": [],\n",
    "    \"화화\": [],\n",
    "    \"화수\": [],\n",
    "    \"화금\": [],\n",
    "    \"화토\": [],\n",
    "    \"수수\": [],\n",
    "    \"수금\": [],\n",
    "    \"수토\": [],\n",
    "    \"금금\": [],\n",
    "    \"금토\": [],\n",
    "    \"토토\": [],\n",
    "}\n"
   ]
  },
  {
   "cell_type": "code",
   "execution_count": null,
   "metadata": {
    "colab": {
     "base_uri": "https://localhost:8080/"
    },
    "id": "QDX5sy-FZy8H",
    "outputId": "465bca9e-b681-4878-fd67-0e5f5119a553"
   },
   "outputs": [
    {
     "name": "stdout",
     "output_type": "stream",
     "text": [
      "['지희', '예림', '민주', '수지', '나경', '인영', '진경', '채윤', '수연', '채원', '나은', '세은', '예주', '연아', '영은', '지영', '채연', '지선', '민경', '지효', '아름', '혜민', '보민', '시연', '서영', '나현', '은혜', '예린', '현지', '진서', '은서', '세진', '채은', '지윤', '예진', '윤아', '선아', '예나', '유진', '정엽', '수빈', '시은', '민정', '수진', '승아', '예지', '주은', '지연', '소율', '하윤', '유나', '하은', '연지', '하연', '초록', '영서', '윤서', '다희', '서연', '소연', '혜원', '가현', '지수', '가영', '정연', '예빈', '규리', '소현', '지현', '윤지', '은채', '예원', '수아', '예서', '은지', '나연', '가람', '태희', '채영', '나영', '채희', '민지', '주아', '다은', '가연', '예은', '가은', '은빈', '정현', '지혜', '서희', '소윤', '아현', '다인', '지은', '채린', '고은', '유리', '다연', '보경', '수인', '주연', '지아', '채현', '혜린', '다혜', '나윤', '아영', '서정', '소희', '연서', '소정', '진효', '가희', '혜주', '선음', '정윤', '혜나', '하린', '민아', '은주', '시영', '서은', '혜인', '유은', '슬교', '하영', '영윤', '유림', '윤하', '루아', '아원', '송현', '채아', '은솔', '희윤', '예슬', '유주', '다경', '해인', '소은', '여은', '재희', '규림', '태연', '해온', '민하', '사랑', '채경', '하엘', '현경', '아린', '가윤', '아윤', '다윤', '예령', '하랑', '희연', '아연', '라희', '효주', '아율', '은희', '수하', '연재', '가을', '다예', '승연', '은영', '아라', '주하', '윤주', '해윤', '효민', '현아', '민진', '시아', '윤슬', '서아', '은진', '채율', '아람', '소예', '주희', '서하', '소민', '나겸', '여원', '수임', '채이', '보미', '태린', '승애', '하늘', '세아', '은하', '주비', '수정', '세연', '은재', '유정', '설아', '민송', '하라', '하음', '매덴', '유라', '세빈', '다솜', '희주', '예람', '별하', '라엘', '미소', '초빈', '윤설', '소을', '세희', '명선', '은율', '예설', '나라', '가빈', '나엘', '소미', '다정', '루온', '유경', '시유', '라원', '굉미', '아임', '결엽', '시직', '도은', '윤이', '세인', '레아', '요은', '키코', '리아', '산화', '유이', '이원', '아진', '단아', '이솔', '우리', '라윤', '다빈', '해솔', '아정', '소이', '도아', '로하', '명리', '리나', '하리', '나나', '린아', '한별', '진아', '률리', '로아', '태리', '화름', '소유', '새라', '슬아', '소영', '재은', '이서', '승인', '다율', '캐런', '이나', '민채', '하임', '해나', '우미', '나온', '루리', '엘라', '율리', '연정', '호정', '은제', '애나', '열음', '이솜', '태미', '보아', '여름', '하이', '해리', '묘경', '재나', '해린', '미주', '윤솔', '라임', '마리', '리하', '다미', '윤희', '애마', '겨울', '조앤', '채인', '소담', '엘린', '이담', '제나', '제니', '기쁨', '루비', '유연', '한봄', '하나', '혜상', '예솔', '지나', '라은', '다나', '새봄', '이윤', '서이', '다슬', '서안']\n"
     ]
    }
   ],
   "source": [
    "female_names = pd.read_csv('../../crawled/female_names.csv')\n",
    "female_name_filtered = female_names[~female_names['Name'].isin(['지안', '시윤', '이든', '현진', '민서', '현서', '하율', '승리', '한솔', '지후', '규빈', '재이', '가온', '유현', '연우', '선율', '우주', '시온', '지온', '태은', '시하', '수안', '정원', '서윤', '서현', '유안', '지민', '하민', '하람', '해담', '시현', '유빈', '나율', '태율', '이안', '은성', '정인', '유민', '하루', '리온', '우진', '아인', '이현', '서율', ' 정현', '선우', '서인', '하빈', '로운', '태이', '성연', '수현', '하담', '지율', '유하', '지원', '하진', '경민', '선유', '건희', '리안', '주안', '현수', '주원', '로희', '준희', '서원', ' 하늘', '지우', '재인', '주영', '서빈', '시우', '라온', '채민', '도연', '지호', '이진', '수민', '은우', '승현', '다온', '지유', '서진', '서우', '정민', '이수', '유솔', '희원', '기타', ' 하랑', '다현', '하온'])]\n",
    "names = female_name_filtered['Name'].to_list()\n",
    "print(names)"
   ]
  },
  {
   "cell_type": "code",
   "execution_count": null,
   "metadata": {
    "id": "eRLfh7BsN6F_"
   },
   "outputs": [],
   "source": [
    "for name in names:\n",
    "  hanja_combinations = find_hanja_combinations_in_name(name)\n",
    "  for hc in hanja_combinations:\n",
    "    name_template = NameTemplate(hc[0], hc[1])\n",
    "    five_element_combination = name_template.five_elements_combination()\n",
    "    if five_element_combination in categorized_female_names:\n",
    "      categorized_female_names[five_element_combination].append(name_template)"
   ]
  },
  {
   "cell_type": "code",
   "execution_count": null,
   "metadata": {
    "colab": {
     "base_uri": "https://localhost:8080/"
    },
    "id": "_mw0qi1VakrU",
    "outputId": "127fd42b-0013-4813-d695-097e8c4600f4"
   },
   "outputs": [
    {
     "name": "stdout",
     "output_type": "stream",
     "text": [
      "목목\n",
      "len: 22580\n",
      "목화\n",
      "len: 29678\n",
      "목수\n",
      "len: 29727\n",
      "목금\n",
      "len: 27944\n",
      "목토\n",
      "len: 25256\n",
      "화화\n",
      "len: 9341\n",
      "화수\n",
      "len: 18675\n",
      "화금\n",
      "len: 17912\n",
      "화토\n",
      "len: 16142\n",
      "수수\n",
      "len: 9591\n",
      "수금\n",
      "len: 17654\n",
      "수토\n",
      "len: 16136\n",
      "금금\n",
      "len: 8542\n",
      "금토\n",
      "len: 15184\n",
      "토토\n",
      "len: 6953\n"
     ]
    }
   ],
   "source": [
    "for k,v in categorized_female_names.items():\n",
    "    print(k)\n",
    "    print(f\"len: {len(v)}\")\n",
    "    random.shuffle(v)\n",
    "    chunked_list = [v[i:i+3] for i in range(0, len(v), 3)]\n",
    "    random.shuffle(chunked_list)\n",
    "    # chunked 개수 조정\n",
    "    chunked_list = chunked_list[:100]\n",
    "    with open(f\"./categorized_name_hanja/female_names_{k}.txt\", \"w\") as f:\n",
    "    for chunk in chunked_list:\n",
    "      for nt in chunk:\n",
    "        f.write(f\"{nt}\\n\\n\")\n",
    "      f.write(\"\\n\")"
   ]
  },
  {
   "cell_type": "code",
   "execution_count": null,
   "metadata": {
    "id": "YU7g0gZuuhYa"
   },
   "outputs": [],
   "source": []
  }
 ],
 "metadata": {
  "colab": {
   "provenance": []
  },
  "kernelspec": {
   "display_name": "Python 3 (ipykernel)",
   "language": "python",
   "name": "python3"
  },
  "language_info": {
   "codemirror_mode": {
    "name": "ipython",
    "version": 3
   },
   "file_extension": ".py",
   "mimetype": "text/x-python",
   "name": "python",
   "nbconvert_exporter": "python",
   "pygments_lexer": "ipython3",
   "version": "3.11.9"
  }
 },
 "nbformat": 4,
 "nbformat_minor": 4
}
