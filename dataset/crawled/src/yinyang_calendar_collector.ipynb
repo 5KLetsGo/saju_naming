{
 "cells": [
  {
   "cell_type": "markdown",
   "metadata": {
    "id": "9nt1T2510dcu"
   },
   "source": [
    "# 천간(십간), 지지(십이지)와 음양오행의 관계 초기화"
   ]
  },
  {
   "cell_type": "code",
   "execution_count": null,
   "metadata": {
    "id": "KJv_B9Q50b8Z"
   },
   "outputs": [],
   "source": [
    "heavenly_stems = {\n",
    "    '갑': {'yang': 1,'yin': 0,'wood': 1,'fire': 0,'earth': 0,'metal': 0,'water': 0},\n",
    "    '을': {'yang': 0,'yin': 1,'wood': 1,'fire': 0,'earth': 0,'metal': 0,'water': 0},\n",
    "    '병': {'yang': 1,'yin': 0,'wood': 0,'fire': 1,'earth': 0,'metal': 0,'water': 0},\n",
    "    '정': {'yang': 0,'yin': 1,'wood': 0,'fire': 1,'earth': 0,'metal': 0,'water': 0},\n",
    "    '무': {'yang': 1,'yin': 0,'wood': 0,'fire': 0,'earth': 1,'metal': 0,'water': 0},\n",
    "    '기': {'yang': 0,'yin': 1,'wood': 0,'fire': 0,'earth': 1,'metal': 0,'water': 0},\n",
    "    '경': {'yang': 1,'yin': 0,'wood': 0,'fire': 0,'earth': 0,'metal': 1,'water': 0},\n",
    "    '신': {'yang': 0,'yin': 1,'wood': 0,'fire': 0,'earth': 0,'metal': 1,'water': 0},\n",
    "    '임': {'yang': 1,'yin': 0,'wood': 0,'fire': 0,'earth': 0,'metal': 0,'water': 1},\n",
    "    '계': {'yang': 0,'yin': 1,'wood': 0,'fire': 0,'earth': 0,'metal': 0,'water': 1}\n",
    "} # 천간\n",
    "\n",
    "earthly_branches = {\n",
    "    '자': {'yang': 1,'yin': 0,'wood': 0,'fire': 0,'earth': 0,'metal': 0,'water': 1},\n",
    "    '축': {'yang': 0,'yin': 1,'wood': 0,'fire': 0,'earth': 1,'metal': 0,'water': 0},\n",
    "    '인': {'yang': 1,'yin': 0,'wood': 1,'fire': 0,'earth': 0,'metal': 0,'water': 0},\n",
    "    '묘': {'yang': 0,'yin': 1,'wood': 1,'fire': 0,'earth': 0,'metal': 0,'water': 0},\n",
    "    '진': {'yang': 1,'yin': 0,'wood': 0,'fire': 0,'earth': 1,'metal': 0,'water': 0},\n",
    "    '사': {'yang': 0,'yin': 1,'wood': 0,'fire': 1,'earth': 0,'metal': 0,'water': 0},\n",
    "    '오': {'yang': 1,'yin': 0,'wood': 0,'fire': 1,'earth': 0,'metal': 0,'water': 0},\n",
    "    '미': {'yang': 0,'yin': 1,'wood': 0,'fire': 0,'earth': 1,'metal': 0,'water': 0},\n",
    "    '신': {'yang': 1,'yin': 0,'wood': 0,'fire': 0,'earth': 0,'metal': 1,'water': 0},\n",
    "    '유': {'yang': 0,'yin': 1,'wood': 0,'fire': 0,'earth': 0,'metal': 1,'water': 0},\n",
    "    '술': {'yang': 1,'yin': 0,'wood': 0,'fire': 0,'earth': 1,'metal': 0,'water': 0},\n",
    "    '해': {'yang': 0,'yin': 1,'wood': 0,'fire': 0,'earth': 0,'metal': 0,'water': 1},\n",
    "} # 지지"
   ]
  },
  {
   "cell_type": "markdown",
   "metadata": {
    "id": "mB79gma-uP8R"
   },
   "source": [
    "# 음양력 데이터 받아오기"
   ]
  },
  {
   "cell_type": "code",
   "execution_count": null,
   "metadata": {
    "id": "lKn0KokeKtoC"
   },
   "outputs": [],
   "source": [
    "import requests\n",
    "import time\n",
    "import traceback\n",
    "import pandas as pd\n",
    "import lxml.etree as etree\n",
    "from datetime import datetime, timedelta"
   ]
  },
  {
   "cell_type": "code",
   "execution_count": null,
   "metadata": {
    "colab": {
     "base_uri": "https://localhost:8080/"
    },
    "id": "4fXIiNHUVyhE",
    "outputId": "47632a8b-b519-4e36-862d-9e8d3d81528e"
   },
   "outputs": [
    {
     "name": "stdout",
     "output_type": "stream",
     "text": [
      "Empty DataFrame\n",
      "Columns: [date, yeonju, wolju, ilju, siju, yin, yang, wood, fire, water, earth, metal, leap_month]\n",
      "Index: []\n",
      "            date  yeonju   wolju    ilju siju yin yang wood fire water earth  \\\n",
      "0     2000-04-13  경진(庚辰)  경진(庚辰)  신축(辛丑)  NaN   2    4    0    0     0     3   \n",
      "1     2000-04-14  경진(庚辰)  경진(庚辰)  임인(壬寅)  NaN   0    6    1    0     1     2   \n",
      "2     2000-04-15  경진(庚辰)  경진(庚辰)  계묘(癸卯)  NaN   2    4    1    0     1     2   \n",
      "3     2000-04-16  경진(庚辰)  경진(庚辰)  갑진(甲辰)  NaN   0    6    1    0     0     3   \n",
      "4     2000-04-17  경진(庚辰)  경진(庚辰)  을사(乙巳)  NaN   2    4    1    1     0     2   \n",
      "...          ...     ...     ...     ...  ...  ..  ...  ...  ...   ...   ...   \n",
      "8926  2024-09-20  갑진(甲辰)  계유(癸酉)  정해(丁亥)  NaN   4    2    1    1     2     1   \n",
      "8927  2024-09-21  갑진(甲辰)  계유(癸酉)  무자(戊子)  NaN   2    4    1    0     2     2   \n",
      "8928  2024-09-22  갑진(甲辰)  계유(癸酉)  기축(己丑)  NaN   4    2    1    0     1     3   \n",
      "8929  2024-09-23  갑진(甲辰)  계유(癸酉)  경인(庚寅)  NaN   2    4    2    0     1     1   \n",
      "8930  2024-09-24  갑진(甲辰)  계유(癸酉)  신묘(辛卯)  NaN   4    2    2    0     1     1   \n",
      "\n",
      "     metal leap_month  \n",
      "0        3          0  \n",
      "1        2          0  \n",
      "2        2          0  \n",
      "3        2          0  \n",
      "4        2          0  \n",
      "...    ...        ...  \n",
      "8926     1          0  \n",
      "8927     1          0  \n",
      "8928     1          0  \n",
      "8929     2          0  \n",
      "8930     2          0  \n",
      "\n",
      "[8931 rows x 13 columns]\n"
     ]
    }
   ],
   "source": [
    "base_url = 'http://apis.data.go.kr/B090041/openapi/service/LrsrCldInfoService/getLunCalInfo'\n",
    "service_key = '발급받은 서비스 키'\n",
    "\n",
    "df = pd.DataFrame(columns = [\n",
    "    'date',\n",
    "    'yeonju',\n",
    "    'wolju',\n",
    "    'ilju',\n",
    "    'siju',\n",
    "    'yin',\n",
    "    'yang',\n",
    "    'wood',\n",
    "    'fire',\n",
    "    'water',\n",
    "    'earth',\n",
    "    'metal',\n",
    "    'leap_month'\n",
    "])\n",
    "print(df)\n",
    "\n",
    "session = requests.Session()\n",
    "\n",
    "# 시작 날짜 조정\n",
    "cur = datetime(2000, 4, 13)\n",
    "# 추출할 날짜 개수 (공공 api 일별 최대 호출 제한 : 10000)\n",
    "for i in range(0, 10000):\n",
    "  if cur > datetime.now():\n",
    "    break\n",
    "\n",
    "  params = {\n",
    "      'solYear': cur.year,\n",
    "      'solMonth': \"{:02d}\".format(cur.month),\n",
    "      'solDay': \"{:02d}\".format(cur.day),\n",
    "      'ServiceKey': service_key,\n",
    "  }\n",
    "\n",
    "  url = base_url + '?' + '&'.join([f'{key}={value}' for key, value in params.items()])\n",
    "\n",
    "  try:\n",
    "    response = session.get(url)\n",
    "    if response.status_code != 200:\n",
    "      time.sleep(3)\n",
    "      continue\n",
    "\n",
    "    root = etree.fromstring(response.text.replace('<?xml version=\"1.0\" encoding=\"UTF-8\" standalone=\"yes\"?>', ''))\n",
    "\n",
    "    date = \"{:04d}-{:02d}-{:02d}\".format(cur.year, cur.month, cur.day)\n",
    "    yeonju = root.xpath('//lunSecha/text()')\n",
    "    wolju = root.xpath('//lunWolgeon/text()')\n",
    "    ilju = root.xpath('//lunIljin/text()')\n",
    "    leap_month = root.xpath('//lunLeapMonth/text()')\n",
    "\n",
    "    is_leap_month = 0\n",
    "    if leap_month == '윤':\n",
    "      is_leap_month = 1\n",
    "\n",
    "    yang, yin, wood, fire, water, earth, metal = 0, 0, 0, 0, 0, 0, 0\n",
    "    for w in [yeonju, wolju, ilju]:\n",
    "      if len(w) == 0:\n",
    "        wolju.append('')\n",
    "        continue\n",
    "\n",
    "      hs, eb = w[0][0], w[0][1]\n",
    "      yang += heavenly_stems[hs]['yang'] + earthly_branches[eb]['yang']\n",
    "      yin += heavenly_stems[hs]['yin'] + earthly_branches[eb]['yin']\n",
    "      wood += heavenly_stems[hs]['wood'] + earthly_branches[eb]['wood']\n",
    "      fire += heavenly_stems[hs]['fire'] + earthly_branches[eb]['fire']\n",
    "      water += heavenly_stems[hs]['water'] + earthly_branches[eb]['water']\n",
    "      earth += heavenly_stems[hs]['earth'] + earthly_branches[eb]['earth']\n",
    "      metal += heavenly_stems[hs]['metal'] + earthly_branches[eb]['metal']\n",
    "\n",
    "    row = pd.DataFrame({'date': date, 'yeonju': yeonju, 'wolju': wolju, 'ilju': ilju, 'yang': yang, 'yin': yin, 'wood': wood, 'fire': fire, 'water': water, 'earth': earth, 'metal': metal, 'leap_month': is_leap_month})\n",
    "    df = pd.concat([df, row], ignore_index=True)\n",
    "  except Exception as e:\n",
    "    print(f\"예기치 않은 오류가 발생했습니다: {e}\")\n",
    "    print(\"cur date:\", cur)\n",
    "    print(\"yeonju:\", yeonju)\n",
    "    print(\"wolju:\", wolju)\n",
    "    print(\"ilju:\", ilju)\n",
    "    traceback.print_exc()\n",
    "    break\n",
    "\n",
    "  cur = cur + timedelta(days=1)\n",
    "  time.sleep(0.25)\n",
    "\n",
    "session.close()\n",
    "\n",
    "print(df)\n",
    "df.to_csv('../yinyang_calendar.csv', index=False)"
   ]
  },
  {
   "cell_type": "markdown",
   "metadata": {
    "id": "tMUugpPZZZxG"
   },
   "source": []
  }
 ],
 "metadata": {
  "colab": {
   "provenance": []
  },
  "kernelspec": {
   "display_name": "Python 3 (ipykernel)",
   "language": "python",
   "name": "python3"
  },
  "language_info": {
   "codemirror_mode": {
    "name": "ipython",
    "version": 3
   },
   "file_extension": ".py",
   "mimetype": "text/x-python",
   "name": "python",
   "nbconvert_exporter": "python",
   "pygments_lexer": "ipython3",
   "version": "3.11.9"
  }
 },
 "nbformat": 4,
 "nbformat_minor": 4
}
