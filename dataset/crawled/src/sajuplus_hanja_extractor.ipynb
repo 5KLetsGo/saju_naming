{
 "cells": [
  {
   "cell_type": "markdown",
   "id": "92a32359-7abc-42d7-b59a-080ecf8a15d2",
   "metadata": {},
   "source": [
    "## html을 통해 한자와 음, 뜻, 자원오행, 음령오행을 추출하고 \n",
    "## pandas를 이용해 csv 파일을 정리"
   ]
  },
  {
   "cell_type": "code",
   "execution_count": 4,
   "id": "70f45d85-92f1-49c9-bdb7-0fba3c926f99",
   "metadata": {},
   "outputs": [],
   "source": [
    "import requests\n",
    "from bs4 import BeautifulSoup\n",
    "import pandas as pd\n",
    "from tqdm import tqdm"
   ]
  },
  {
   "cell_type": "code",
   "execution_count": 8,
   "id": "a55a13b4-8edc-4e2f-b6a3-9b126ea223c4",
   "metadata": {
    "scrolled": true
   },
   "outputs": [
    {
     "name": "stderr",
     "output_type": "stream",
     "text": [
      "201it [00:29,  7.24it/s]"
     ]
    },
    {
     "name": "stdout",
     "output_type": "stream",
     "text": [
      "200\n"
     ]
    },
    {
     "name": "stderr",
     "output_type": "stream",
     "text": [
      "400it [00:59,  7.41it/s]"
     ]
    },
    {
     "name": "stdout",
     "output_type": "stream",
     "text": [
      "400\n"
     ]
    },
    {
     "name": "stderr",
     "output_type": "stream",
     "text": [
      "601it [01:32,  7.15it/s]"
     ]
    },
    {
     "name": "stdout",
     "output_type": "stream",
     "text": [
      "600\n"
     ]
    },
    {
     "name": "stderr",
     "output_type": "stream",
     "text": [
      "800it [02:05,  7.08it/s]"
     ]
    },
    {
     "name": "stdout",
     "output_type": "stream",
     "text": [
      "800\n"
     ]
    },
    {
     "name": "stderr",
     "output_type": "stream",
     "text": [
      "1001it [02:40,  6.94it/s]"
     ]
    },
    {
     "name": "stdout",
     "output_type": "stream",
     "text": [
      "1000\n"
     ]
    },
    {
     "name": "stderr",
     "output_type": "stream",
     "text": [
      "1201it [03:12,  7.04it/s]"
     ]
    },
    {
     "name": "stdout",
     "output_type": "stream",
     "text": [
      "1200\n"
     ]
    },
    {
     "name": "stderr",
     "output_type": "stream",
     "text": [
      "1401it [03:44,  6.78it/s]"
     ]
    },
    {
     "name": "stdout",
     "output_type": "stream",
     "text": [
      "1400\n"
     ]
    },
    {
     "name": "stderr",
     "output_type": "stream",
     "text": [
      "1601it [04:16,  7.37it/s]"
     ]
    },
    {
     "name": "stdout",
     "output_type": "stream",
     "text": [
      "1600\n"
     ]
    },
    {
     "name": "stderr",
     "output_type": "stream",
     "text": [
      "1800it [04:45,  7.38it/s]"
     ]
    },
    {
     "name": "stdout",
     "output_type": "stream",
     "text": [
      "1800\n"
     ]
    },
    {
     "name": "stderr",
     "output_type": "stream",
     "text": [
      "2001it [05:16,  6.83it/s]"
     ]
    },
    {
     "name": "stdout",
     "output_type": "stream",
     "text": [
      "2000\n"
     ]
    },
    {
     "name": "stderr",
     "output_type": "stream",
     "text": [
      "2200it [05:47,  7.78it/s]"
     ]
    },
    {
     "name": "stdout",
     "output_type": "stream",
     "text": [
      "2200\n"
     ]
    },
    {
     "name": "stderr",
     "output_type": "stream",
     "text": [
      "2401it [06:18,  6.82it/s]"
     ]
    },
    {
     "name": "stdout",
     "output_type": "stream",
     "text": [
      "2400\n"
     ]
    },
    {
     "name": "stderr",
     "output_type": "stream",
     "text": [
      "2601it [06:50,  6.77it/s]"
     ]
    },
    {
     "name": "stdout",
     "output_type": "stream",
     "text": [
      "2600\n"
     ]
    },
    {
     "name": "stderr",
     "output_type": "stream",
     "text": [
      "2801it [07:21,  6.07it/s]"
     ]
    },
    {
     "name": "stdout",
     "output_type": "stream",
     "text": [
      "2800\n"
     ]
    },
    {
     "name": "stderr",
     "output_type": "stream",
     "text": [
      "3001it [07:52,  7.01it/s]"
     ]
    },
    {
     "name": "stdout",
     "output_type": "stream",
     "text": [
      "3000\n"
     ]
    },
    {
     "name": "stderr",
     "output_type": "stream",
     "text": [
      "3200it [08:23,  7.00it/s]"
     ]
    },
    {
     "name": "stdout",
     "output_type": "stream",
     "text": [
      "3200\n"
     ]
    },
    {
     "name": "stderr",
     "output_type": "stream",
     "text": [
      "3401it [08:55,  6.56it/s]"
     ]
    },
    {
     "name": "stdout",
     "output_type": "stream",
     "text": [
      "3400\n"
     ]
    },
    {
     "name": "stderr",
     "output_type": "stream",
     "text": [
      "3601it [09:24,  7.39it/s]"
     ]
    },
    {
     "name": "stdout",
     "output_type": "stream",
     "text": [
      "3600\n"
     ]
    },
    {
     "name": "stderr",
     "output_type": "stream",
     "text": [
      "3801it [09:56,  6.30it/s]"
     ]
    },
    {
     "name": "stdout",
     "output_type": "stream",
     "text": [
      "3800\n"
     ]
    },
    {
     "name": "stderr",
     "output_type": "stream",
     "text": [
      "4001it [10:27,  7.22it/s]"
     ]
    },
    {
     "name": "stdout",
     "output_type": "stream",
     "text": [
      "4000\n"
     ]
    },
    {
     "name": "stderr",
     "output_type": "stream",
     "text": [
      "4200it [10:59,  6.63it/s]"
     ]
    },
    {
     "name": "stdout",
     "output_type": "stream",
     "text": [
      "4200\n"
     ]
    },
    {
     "name": "stderr",
     "output_type": "stream",
     "text": [
      "4401it [11:30,  6.45it/s]"
     ]
    },
    {
     "name": "stdout",
     "output_type": "stream",
     "text": [
      "4400\n"
     ]
    },
    {
     "name": "stderr",
     "output_type": "stream",
     "text": [
      "4600it [12:03,  6.95it/s]"
     ]
    },
    {
     "name": "stdout",
     "output_type": "stream",
     "text": [
      "4600\n"
     ]
    },
    {
     "name": "stderr",
     "output_type": "stream",
     "text": [
      "4801it [12:36,  5.99it/s]"
     ]
    },
    {
     "name": "stdout",
     "output_type": "stream",
     "text": [
      "4800\n"
     ]
    },
    {
     "name": "stderr",
     "output_type": "stream",
     "text": [
      "5001it [13:09,  6.98it/s]"
     ]
    },
    {
     "name": "stdout",
     "output_type": "stream",
     "text": [
      "5000\n"
     ]
    },
    {
     "name": "stderr",
     "output_type": "stream",
     "text": [
      "5201it [13:44,  6.35it/s]"
     ]
    },
    {
     "name": "stdout",
     "output_type": "stream",
     "text": [
      "5200\n"
     ]
    },
    {
     "name": "stderr",
     "output_type": "stream",
     "text": [
      "5400it [14:15,  7.44it/s]"
     ]
    },
    {
     "name": "stdout",
     "output_type": "stream",
     "text": [
      "5400\n"
     ]
    },
    {
     "name": "stderr",
     "output_type": "stream",
     "text": [
      "5601it [14:45,  6.49it/s]"
     ]
    },
    {
     "name": "stdout",
     "output_type": "stream",
     "text": [
      "5600\n"
     ]
    },
    {
     "name": "stderr",
     "output_type": "stream",
     "text": [
      "5800it [15:18,  7.26it/s]"
     ]
    },
    {
     "name": "stdout",
     "output_type": "stream",
     "text": [
      "5800\n"
     ]
    },
    {
     "name": "stderr",
     "output_type": "stream",
     "text": [
      "6001it [15:48,  6.82it/s]"
     ]
    },
    {
     "name": "stdout",
     "output_type": "stream",
     "text": [
      "6000\n"
     ]
    },
    {
     "name": "stderr",
     "output_type": "stream",
     "text": [
      "6200it [16:18,  6.92it/s]"
     ]
    },
    {
     "name": "stdout",
     "output_type": "stream",
     "text": [
      "6200\n"
     ]
    },
    {
     "name": "stderr",
     "output_type": "stream",
     "text": [
      "6401it [16:48,  6.83it/s]"
     ]
    },
    {
     "name": "stdout",
     "output_type": "stream",
     "text": [
      "6400\n"
     ]
    },
    {
     "name": "stderr",
     "output_type": "stream",
     "text": [
      "6600it [17:18,  7.19it/s]"
     ]
    },
    {
     "name": "stdout",
     "output_type": "stream",
     "text": [
      "6600\n"
     ]
    },
    {
     "name": "stderr",
     "output_type": "stream",
     "text": [
      "6801it [17:47,  7.74it/s]"
     ]
    },
    {
     "name": "stdout",
     "output_type": "stream",
     "text": [
      "6800\n"
     ]
    },
    {
     "name": "stderr",
     "output_type": "stream",
     "text": [
      "7000it [18:17,  7.21it/s]"
     ]
    },
    {
     "name": "stdout",
     "output_type": "stream",
     "text": [
      "7000\n"
     ]
    },
    {
     "name": "stderr",
     "output_type": "stream",
     "text": [
      "7201it [18:47,  6.72it/s]"
     ]
    },
    {
     "name": "stdout",
     "output_type": "stream",
     "text": [
      "7200\n"
     ]
    },
    {
     "name": "stderr",
     "output_type": "stream",
     "text": [
      "7400it [19:17,  7.28it/s]"
     ]
    },
    {
     "name": "stdout",
     "output_type": "stream",
     "text": [
      "7400\n"
     ]
    },
    {
     "name": "stderr",
     "output_type": "stream",
     "text": [
      "7601it [19:47,  7.42it/s]"
     ]
    },
    {
     "name": "stdout",
     "output_type": "stream",
     "text": [
      "7600\n"
     ]
    },
    {
     "name": "stderr",
     "output_type": "stream",
     "text": [
      "7801it [20:16,  6.18it/s]"
     ]
    },
    {
     "name": "stdout",
     "output_type": "stream",
     "text": [
      "7800\n"
     ]
    },
    {
     "name": "stderr",
     "output_type": "stream",
     "text": [
      "8001it [20:49,  7.34it/s]"
     ]
    },
    {
     "name": "stdout",
     "output_type": "stream",
     "text": [
      "8000\n"
     ]
    },
    {
     "name": "stderr",
     "output_type": "stream",
     "text": [
      "8143it [21:14,  6.39it/s]\n"
     ]
    }
   ],
   "source": [
    "# pandas DataFrame\n",
    "df = pd.DataFrame(columns = [\n",
    "    'Hanja',\n",
    "    'mean',\n",
    "    'sound',\n",
    "    'meanFiveElements',\n",
    "    'soundFiveElements'\n",
    "])\n",
    "\n",
    "# 한자 추출 후 df에 저장\n",
    "def hanja_extract(url):\n",
    "    global df\n",
    "    response = requests.get(url)\n",
    "    html_content = response.content\n",
    "    \n",
    "    # BeautifulSoup으로 HTML 파싱\n",
    "    soup = BeautifulSoup(html_content, 'html.parser')\n",
    "    \n",
    "    # 특정 문자열이 포함된 텍스트 검색\n",
    "    results = soup.find_all('form', {'name': \"read\"})\n",
    "    \n",
    "    # 검색된 텍스트 출력\n",
    "    for result in results:\n",
    "        result_arr = result.text\n",
    "\n",
    "    row = pd.DataFrame({'Hanja': [result_arr[1]],\n",
    "                        'mean': [result_arr[result_arr.find(\"net\")+10:result_arr.find(\"원획\")].split(\"  \")[0][:-2] + \", \" + result_arr[result_arr.find(\"net\")+10:result_arr.find(\"원획\")].split(\"  \")[1]],\n",
    "                        'sound': [result_arr[result_arr.find(\"net\")+10:result_arr.find(\"원획\")].split(\"  \")[0][-1]],\n",
    "                        'meanFiveElements': [result_arr[result_arr.find(\"자원오행 :\")+6:result_arr.find(\"음령오행 :\")].strip()],\n",
    "                        'soundFiveElements': [result_arr[result_arr.find(\"음령오행 :\")+6:result_arr.find(\"상생자음 :\")].strip()]})\n",
    "    \n",
    "    df = pd.concat([df, row], ignore_index=True)\n",
    "\n",
    "# 웹페이지 로드\n",
    "cnt = 0\n",
    "with open(\"../hanja_details_urls\", 'r') as f:\n",
    "    for url in tqdm(f):\n",
    "        hanja_extract(url)\n",
    "        cnt += 1\n",
    "        if cnt % 1000 == 0:\n",
    "            print(cnt)\n",
    "\n",
    "# csv 파일 생성\n",
    "df.to_csv('../naming_hanja.csv', index=False)"
   ]
  },
  {
   "cell_type": "code",
   "execution_count": 1,
   "id": "04fd1321-f087-49f6-aaa6-d9a39624b4f1",
   "metadata": {},
   "outputs": [
    {
     "name": "stdout",
     "output_type": "stream",
     "text": [
      "8143\n"
     ]
    }
   ],
   "source": [
    "df = pd.read_csv('../naming_hanja.csv')\n",
    "print(len(df))"
   ]
  },
  {
   "cell_type": "code",
   "execution_count": 3,
   "id": "7a44ec80-5555-46a4-a8a5-cc8aa2491825",
   "metadata": {},
   "outputs": [
    {
     "name": "stdout",
     "output_type": "stream",
     "text": [
      "2135\n",
      "6008\n"
     ]
    }
   ],
   "source": [
    "# 좋지 않은 뜻 분류\n",
    "bad_hanja = df[df['mean'].str.contains('좋지않은')]\n",
    "print(len(bad_hanja))\n",
    "bad_hanja.to_csv('../bad_naming_hanja.csv', index=False)\n",
    "\n",
    "# 좋은 뜻 분류\n",
    "good_hanja = df[~df['mean'].str.contains('좋지않은')]\n",
    "print(len(good_hanja))\n",
    "good_hanja.to_csv('../good_naming_hanja.csv', index=False)"
   ]
  },
  {
   "cell_type": "code",
   "execution_count": null,
   "id": "e5ac7b36-9208-4086-a818-f183bad65896",
   "metadata": {},
   "outputs": [],
   "source": [
    "# 좋은 뜻 한자 filter(불용문자, 성(姓)씨 사용 제거, 한자 첫번째 뜻 사용)\n",
    "df = pd.read_csv('../good_naming_hanja.csv')\n",
    "\n",
    "df = df[df['mean'].str.contains('불용문자') == False]\n",
    "df['soundFiveElements'] = df['soundFiveElements'].astype(str).apply(lambda x: x.replace('성(姓)씨 사용', ''))\n",
    "df['mean'] = df['mean'].astype(str).apply(lambda x: x.split(',')[0].strip().split(' ')[0])\n",
    "\n",
    "df.to_csv('../good_naming_hanja_filtered.csv', index=False)"
   ]
  }
 ],
 "metadata": {
  "kernelspec": {
   "display_name": "Python 3 (ipykernel)",
   "language": "python",
   "name": "python3"
  },
  "language_info": {
   "codemirror_mode": {
    "name": "ipython",
    "version": 3
   },
   "file_extension": ".py",
   "mimetype": "text/x-python",
   "name": "python",
   "nbconvert_exporter": "python",
   "pygments_lexer": "ipython3",
   "version": "3.11.9"
  }
 },
 "nbformat": 4,
 "nbformat_minor": 5
}
