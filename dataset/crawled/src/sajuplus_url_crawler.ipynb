{
 "cells": [
  {
   "cell_type": "code",
   "execution_count": null,
   "metadata": {
    "id": "zhZ31YFYerBL"
   },
   "outputs": [],
   "source": [
    "import requests\n",
    "import time\n",
    "from bs4 import BeautifulSoup"
   ]
  },
  {
   "cell_type": "code",
   "execution_count": null,
   "metadata": {
    "id": "s9kU0aDCv13C"
   },
   "outputs": [],
   "source": [
    "a = [('가', 3), ('각', 3), ('간', 3), ('갈', 3), ('감', 3), ('갑', 3), ('강', 3), ('개', 3), ('객', 3), ('갱', 3), ('갹', 3), ('거', 3), ('건', 3), ('걸', 3), ('검', 3), ('겁', 3), ('게', 3), ('격', 3), ('견', 3), ('결', 3), ('겸', 3), ('경', 3), ('계', 3), ('고', 3), ('곡', 3), ('곤', 3), ('골', 3), ('공', 3), ('곶', 3), ('과', 3), ('곽', 3), ('관', 3), ('괄', 3), ('광', 3), ('괘', 3), ('괴', 3), ('괵', 3), ('굉', 3), ('교', 3), ('구', 3), ('국', 3), ('군', 3), ('굴', 3), ('궁', 3), ('권', 3), ('궐', 3), ('궤', 3), ('귀', 3), ('규', 3), ('균', 3), ('귤', 3), ('극', 3), ('근', 3), ('글', 3), ('금', 3), ('급', 3), ('긍', 3), ('기', 3), ('긴', 3), ('길', 3), ('김', 3), ('끽', 3)]\n",
    "b = [('나', 3), ('낙', 3), ('난', 3), ('날', 3), ('남', 3), ('납', 3), ('낭', 3), ('내', 3), ('녀', 3), ('녁', 3), ('년', 3), ('념', 3), ('녑', 3), ('녕', 3), ('노', 3), ('농', 3), ('뇌', 3), ('뇨', 3), ('누', 3), ('눈', 3), ('눌', 3), ('뉴', 3), ('뉵', 3), ('능', 3), ('니', 3), ('닉', 3), ('닐', 3)]\n",
    "c = [('다', 3), ('단', 3), ('달', 3), ('담', 3), ('답', 3), ('당', 3), ('대', 3), ('댁', 3), ('덕', 3), ('도', 3), ('독', 3), ('돈', 3), ('돌', 3), ('동', 3), ('두', 3), ('둔', 3), ('둘', 3), ('득', 3), ('등', 3)]\n",
    "d = [('라', 3), ('락', 3), ('란', 3), ('랄', 3), ('람', 3), ('랍', 3), ('랑', 3), ('래', 3), ('랭', 3), ('략', 3), ('량', 3), ('려', 3), ('력', 3), ('련', 3), ('렬', 3), ('렴', 3), ('렵', 3), ('령', 3), ('례', 3), ('로', 3), ('록', 3), ('론', 3), ('롱', 3), ('뢰', 3), ('료', 3), ('룡', 3), ('루', 3), ('류', 3), ('륙', 3), ('륜', 3), ('률', 3), ('륭', 3), ('륵', 3), ('름', 3), ('릉', 3), ('리', 3), ('린', 3), ('림', 3), ('립', 3)]\n",
    "e = [('마', 3), ('막', 3), ('만', 3), ('말', 3), ('망', 3), ('매', 3), ('맥', 3), ('맹', 3), ('멱', 3), ('면', 3), ('멸', 3), ('명', 3), ('몌', 3), ('모', 3), ('목', 3), ('몰', 3), ('몽', 3), ('묘', 3), ('무', 3), ('묵', 3), ('문', 3), ('물', 3), ('미', 3), ('민', 3), ('밀', 3)]\n",
    "f = [('박', 3), ('반', 3), ('발', 3), ('방', 3), ('배', 3), ('백', 3), ('번', 3), ('벌', 3), ('범', 3), ('법', 3), ('벽', 3), ('변', 3), ('별', 3), ('병', 3), ('보', 3), ('복', 3), ('본', 3), ('볼', 3), ('봉', 3), ('부', 3), ('북', 3), ('분', 3), ('불', 3), ('붕', 3), ('비', 3), ('빈', 3), ('빙', 3)]\n",
    "g = [('사', 3), ('삭', 3), ('산', 3), ('살', 3), ('삼', 3), ('삽', 3), ('상', 3), ('새', 3), ('색', 3), ('생', 3), ('서', 3), ('석', 3), ('선', 3), ('설', 3), ('섬', 3), ('섭', 3), ('성', 3), ('세', 3), ('소', 3), ('속', 3), ('손', 3), ('솔', 3), ('송', 3), ('쇄', 3), ('쇠', 3), ('수', 3), ('숙', 3), ('순', 3), ('술', 3), ('숭', 3), ('쉬', 3), ('슬', 3), ('습', 3), ('승', 3), ('시', 3), ('식', 3), ('신', 3), ('실', 3), ('심', 3), ('십', 3), ('쌍', 3), ('씨', 3)]\n",
    "h = [('아', 3), ('악', 3), ('안', 3), ('알', 3), ('암', 3), ('압', 3), ('앙', 3), ('애', 3), ('액', 3), ('앵', 3), ('야', 3), ('약', 3), ('양', 3), ('어', 3), ('억', 3), ('언', 3), ('얼', 3), ('엄', 3), ('업', 3), ('에', 3), ('엔', 3), ('여', 3), ('역', 3), ('연', 3), ('열', 3), ('염', 3), ('엽', 3), ('영', 3), ('예', 3), ('오', 3), ('옥', 3), ('온', 3), ('올', 3), ('옹', 3), ('와', 3), ('완', 3), ('왈', 3), ('왕', 3), ('왜', 3), ('외', 3), ('요', 3), ('욕', 3), ('용', 3), ('우', 3), ('욱', 3), ('운', 3), ('울', 3), ('웅', 3), ('원', 3), ('월', 3), ('위', 3), ('유', 3), ('육', 3), ('윤', 3), ('율', 3), ('융', 3), ('은', 3), ('을', 3), ('음', 3), ('읍', 3), ('응', 3), ('의', 3), ('이', 3), ('익', 3), ('인', 3), ('일', 3), ('임', 3), ('입', 3), ('잉', 3)]\n",
    "i = [('자', 3), ('작', 3), ('잔', 3), ('잠', 3), ('잡', 3), ('장', 3), ('재', 3), ('쟁', 3), ('저', 3), ('적', 3), ('전', 3), ('절', 3), ('점', 3), ('접', 3), ('정', 3), ('제', 3), ('조', 3), ('족', 3), ('존', 3), ('졸', 3), ('종', 3), ('좌', 3), ('죄', 3), ('주', 3), ('죽', 3), ('준', 3), ('줄', 3), ('중', 3), ('즉', 3), ('즐', 3), ('즙', 3), ('증', 3), ('지', 3), ('직', 3), ('진', 3), ('질', 3), ('짐', 3), ('집', 3), ('징', 3)]\n",
    "j = [('차', 3), ('착', 3), ('찬', 3), ('찰', 3), ('참', 3), ('창', 3), ('채', 3), ('책', 3), ('처', 3), ('척', 3), ('천', 3), ('철', 3), ('첨', 3), ('첩', 3), ('청', 3), ('체', 3), ('초', 3), ('촉', 3), ('촌', 3), ('총', 3), ('촬', 3), ('최', 3), ('추', 3), ('축', 3), ('춘', 3), ('출', 3), ('충', 3), ('췌', 3), ('취', 3), ('측', 3), ('층', 3), ('치', 3), ('칙', 3), ('친', 3), ('칠', 3), ('침', 3), ('칩', 3), ('칭', 3)]\n",
    "k = [('쾌', 1)]\n",
    "l = [('타', 3), ('탁', 3), ('탄', 3), ('탈', 3), ('탐', 3), ('탑', 3), ('탕', 3), ('태', 3), ('택', 3), ('탱', 3), ('터', 3), ('토', 3), ('톤', 3), ('통', 3), ('퇴', 3), ('투', 3), ('퉁', 3), ('특', 3), ('틈', 3)]\n",
    "m = [('파', 3), ('판', 3), ('팔', 3), ('패', 3), ('팽', 3), ('퍅', 3), ('편', 3), ('폄', 3), ('평', 3), ('폐', 3), ('포', 3), ('폭', 3), ('표', 3), ('품', 3), ('풍', 3), ('피', 3), ('픽', 3), ('필', 3), ('핍', 3)]\n",
    "n = [('하', 3), ('학', 3), ('한', 3), ('할', 3), ('함', 3), ('합', 3), ('항', 3), ('해', 3), ('핵', 3), ('행', 3), ('향', 3), ('허', 3), ('헌', 3), ('헐', 3), ('험', 3), ('혁', 3), ('현', 3), ('혈', 3), ('혐', 3), ('협', 3), ('형', 3), ('혜', 3), ('호', 3), ('혹', 3), ('혼', 3), ('홀', 3), ('홍', 3), ('화', 3), ('확', 3), ('환', 3), ('활', 3), ('황', 3), ('회', 3), ('획', 3), ('횡', 3), ('효', 3), ('후', 3), ('훈', 3), ('훌', 3), ('훙', 3), ('훤', 3), ('훼', 3), ('휘', 3), ('휴', 3), ('휼', 3), ('흉', 3), ('흑', 3), ('흔', 3), ('흘', 3), ('흠', 3), ('흡', 3), ('흥', 3), ('희', 3), ('힐', 3)]\n",
    "\n",
    "args = a+b+c+d+e+f+g+h+i+j+k+l+m+n"
   ]
  },
  {
   "cell_type": "code",
   "execution_count": null,
   "metadata": {
    "colab": {
     "base_uri": "https://localhost:8080/"
    },
    "id": "Ok-FaCIOoyoA",
    "outputId": "1eba0575-2e8e-4681-c221-aa528d66c5f1"
   },
   "outputs": [
    {
     "name": "stdout",
     "output_type": "stream",
     "text": [
      "url counts: 1918\n"
     ]
    }
   ],
   "source": [
    "urls = []\n",
    "count = 0\n",
    "page_padding = 1\n",
    "for arg in args:\n",
    "  keyword, page_approximate_count = arg\n",
    "  page_count = page_approximate_count + page_padding\n",
    "  for page in range(1, page_count + 1):\n",
    "    count = count + 1\n",
    "    url = f\"http://hanja.sajuplus.net/?key_word={keyword}&page={page}\"\n",
    "    urls.append(url)\n",
    "\n",
    "print(f\"url counts: {len(urls)}\")"
   ]
  },
  {
   "cell_type": "code",
   "execution_count": null,
   "metadata": {
    "colab": {
     "base_uri": "https://localhost:8080/"
    },
    "id": "i1xMEZIzuFGJ",
    "outputId": "632ddbf9-87de-4f7e-8c0e-c7ff35819ef8"
   },
   "outputs": [
    {
     "name": "stdout",
     "output_type": "stream",
     "text": [
      "collecting hanja details urls... count: 200 12.1180\n",
      "collecting hanja details urls... count: 400 25.0379\n",
      "collecting hanja details urls... count: 600 36.5984\n",
      "collecting hanja details urls... count: 800 45.4631\n",
      "collecting hanja details urls... count: 1000 54.2418\n",
      "collecting hanja details urls... count: 1200 65.4386\n",
      "collecting hanja details urls... count: 1400 77.7941\n",
      "collecting hanja details urls... count: 1600 89.1563\n",
      "collecting hanja details urls... count: 1800 102.0096\n",
      "collecting hanja details urls... count: 2000 112.4376\n",
      "collecting hanja details urls... count: 2200 125.9217\n",
      "collecting hanja details urls... count: 2400 144.9672\n",
      "collecting hanja details urls... count: 2600 163.5669\n",
      "collecting hanja details urls... count: 2800 175.4276\n",
      "collecting hanja details urls... count: 3000 185.7980\n",
      "collecting hanja details urls... count: 3200 196.7679\n",
      "collecting hanja details urls... count: 3400 213.1804\n",
      "collecting hanja details urls... count: 3600 225.2062\n",
      "collecting hanja details urls... count: 3800 237.2170\n",
      "collecting hanja details urls... count: 4000 246.2540\n",
      "collecting hanja details urls... count: 4200 262.5527\n",
      "collecting hanja details urls... count: 4400 271.2955\n",
      "collecting hanja details urls... count: 4600 281.5473\n",
      "collecting hanja details urls... count: 4800 291.8863\n",
      "collecting hanja details urls... count: 5000 303.6003\n",
      "collecting hanja details urls... count: 5200 314.9314\n",
      "collecting hanja details urls... count: 5400 323.3434\n",
      "collecting hanja details urls... count: 5600 336.6572\n",
      "collecting hanja details urls... count: 5800 346.5085\n",
      "collecting hanja details urls... count: 6000 355.1921\n",
      "collecting hanja details urls... count: 6200 362.5796\n",
      "collecting hanja details urls... count: 6400 372.0665\n",
      "collecting hanja details urls... count: 6600 381.3329\n",
      "collecting hanja details urls... count: 6800 388.3143\n",
      "collecting hanja details urls... count: 7000 396.4994\n",
      "collecting hanja details urls... count: 7200 407.0339\n",
      "collecting hanja details urls... count: 7400 420.7061\n",
      "collecting hanja details urls... count: 7600 434.3241\n",
      "collecting hanja details urls... count: 7800 444.6187\n",
      "collecting hanja details urls... count: 8000 453.9912\n",
      "collecting hanja details urls... count: 8200 464.9588\n",
      "collecting hanja details urls... count: 8400 477.3180\n",
      "collecting hanja details urls... count: 8600 485.9936\n",
      "collecting hanja details urls... count: 8800 493.9340\n",
      "collecting hanja details urls... count: 9000 507.8445\n",
      "collecting hanja details urls... count: 9200 516.0178\n",
      "collecting hanja details urls... count: 9400 526.8286\n",
      "collecting hanja details urls... count: 9600 534.0868\n",
      "collecting hanja details urls... count: 9800 544.9599\n",
      "collecting hanja details urls... count: 10000 554.1790\n",
      "collecting hanja details urls... count: 10200 561.9887\n",
      "collecting hanja details urls... count: 10400 572.1317\n",
      "collecting hanja details urls... count: 10600 580.3241\n",
      "collecting hanja details urls... count: 10800 588.4790\n",
      "collecting hanja details urls... count: 11000 602.0404\n",
      "collecting hanja details urls... count: 11200 613.7088\n",
      "collecting hanja details urls... count: 11400 627.1733\n",
      "collecting hanja details urls... count: 11600 639.5275\n",
      "collecting hanja details urls... count: 11800 649.6623\n",
      "collecting hanja details urls... count: 12000 658.7279\n",
      "collecting hanja details urls... count: 12200 666.5842\n",
      "collecting hanja details urls... count: 12400 675.5078\n",
      "collecting hanja details urls... count: 12600 689.1581\n",
      "collecting hanja details urls... count: 12800 708.3861\n",
      "collecting hanja details urls... count: 13000 720.4648\n",
      "collecting hanja details urls... count: 13200 734.7752\n",
      "collecting hanja details urls... count: 13400 750.0956\n",
      "collecting hanja details urls... count: 13600 761.5758\n",
      "collecting hanja details urls... count: 13800 774.0143\n",
      "collecting hanja details urls... count: 14000 782.6556\n",
      "collecting hanja details urls... count: 14200 794.4175\n",
      "collecting hanja details urls... count: 14400 807.0888\n",
      "collecting hanja details urls... count: 14600 817.8221\n",
      "collecting hanja details urls... count: 14800 826.5259\n",
      "collecting hanja details urls... count: 15000 837.2077\n",
      "collecting hanja details urls... count: 15200 846.4488\n",
      "collecting hanja details urls... count: 15400 861.5389\n",
      "collecting hanja details urls... count: 15600 875.1117\n",
      "before remove duplicated urls: 15617\n"
     ]
    }
   ],
   "source": [
    "hanja_details_urls = []\n",
    "\n",
    "session = requests.Session()\n",
    "start = time.time()\n",
    "for url in urls:\n",
    "  response = session.get(url)\n",
    "  html = response.content\n",
    "  soup = BeautifulSoup(html, 'html.parser')\n",
    "\n",
    "  value = \"this.style.backgroundColor='#FFefef';return true;\"\n",
    "  rows = soup.find_all('tr', {'onmouseover': value})\n",
    "  for r in rows:\n",
    "    a = r.find('a')\n",
    "    hanja_details_urls.append('http://hanja.sajuplus.net' + a['href'])\n",
    "    count = len(hanja_details_urls)\n",
    "    if count % 200 == 0:\n",
    "      cur = time.time()\n",
    "      elapsed = cur - start\n",
    "      print(f\"collecting hanja details urls... count: {count} {elapsed:.4f}\")\n",
    "\n",
    "session.close()\n",
    "print(f\"before remove duplicated urls: {len(hanja_details_urls)}\")"
   ]
  },
  {
   "cell_type": "code",
   "execution_count": null,
   "metadata": {
    "colab": {
     "base_uri": "https://localhost:8080/"
    },
    "id": "Uv7arBf38G2K",
    "outputId": "e539000b-97b5-4740-ebde-512ed41eca52"
   },
   "outputs": [
    {
     "name": "stdout",
     "output_type": "stream",
     "text": [
      "after remove duplicated urls: 8143\n"
     ]
    }
   ],
   "source": [
    "hanja_details_urls = list(set(hanja_details_urls))\n",
    "print(f\"after remove duplicated urls: {len(hanja_details_urls)}\")"
   ]
  },
  {
   "cell_type": "code",
   "execution_count": null,
   "metadata": {
    "id": "tjr8dfog6LKt"
   },
   "outputs": [],
   "source": [
    "with open('../hanja_details_urls', 'w', encoding='utf-8') as file:\n",
    "    file.writelines(u + '\\n' for u in hanja_details_urls)"
   ]
  },
  {
   "cell_type": "markdown",
   "metadata": {
    "id": "8o4U48ueFhq4"
   },
   "source": [
    "## 검증"
   ]
  },
  {
   "cell_type": "code",
   "execution_count": null,
   "metadata": {
    "colab": {
     "base_uri": "https://localhost:8080/"
    },
    "id": "1mbOj0HHEv3j",
    "outputId": "cb95d90d-dfca-4bcc-d305-b6551dbccc0d"
   },
   "outputs": [
    {
     "name": "stdout",
     "output_type": "stream",
     "text": [
      "http://hanja.sajuplus.net/?mnuid=1&idcnt=1&&tmp_str=hanja3&cstyle=D&no=9794504b&key_word=연&key2_word=&key3_word=&key4_word=&hoisu_over=&page=2&type=&istr=07&iistr=23\n",
      "http://hanja.sajuplus.net/?mnuid=1&idcnt=1&&tmp_str=hanja3&cstyle=D&no=9c96554d&key_word=송&key2_word=&key3_word=&key4_word=&hoisu_over=&page=1&type=&istr=06&iistr=22\n",
      "http://hanja.sajuplus.net/?mnuid=1&idcnt=1&&tmp_str=hanja3&cstyle=D&no=9495564a53&key_word=지&key2_word=&key3_word=&key4_word=&hoisu_over=&page=1&type=&istr=08&iistr=32\n",
      "http://hanja.sajuplus.net/?mnuid=1&idcnt=1&&tmp_str=hanja3&cstyle=D&no=9d95514e&key_word=관&key2_word=&key3_word=&key4_word=&hoisu_over=&page=2&type=&istr=00&iistr=31\n",
      "http://hanja.sajuplus.net/?mnuid=1&idcnt=1&&tmp_str=hanja3&cstyle=D&no=9495544855&key_word=유&key2_word=&key3_word=&key4_word=&hoisu_over=&page=3&type=&istr=07&iistr=51\n",
      "http://hanja.sajuplus.net/?mnuid=1&idcnt=1&&tmp_str=hanja3&cstyle=D&no=91945242&key_word=린&key2_word=&key3_word=&key4_word=&hoisu_over=&page=2&type=&istr=03&iistr=36\n",
      "http://hanja.sajuplus.net/?mnuid=1&idcnt=1&&tmp_str=hanja3&cstyle=D&no=9793514c&key_word=지&key2_word=&key3_word=&key4_word=&hoisu_over=&page=4&type=&istr=08&iistr=32\n",
      "http://hanja.sajuplus.net/?mnuid=1&idcnt=1&&tmp_str=hanja3&cstyle=D&no=94905042&key_word=봉&key2_word=&key3_word=&key4_word=&hoisu_over=&page=2&type=&istr=05&iistr=18\n",
      "http://hanja.sajuplus.net/?mnuid=1&idcnt=1&&tmp_str=hanja3&cstyle=D&no=979c524c&key_word=찬&key2_word=&key3_word=&key4_word=&hoisu_over=&page=2&type=&istr=09&iistr=2\n",
      "http://hanja.sajuplus.net/?mnuid=1&idcnt=1&&tmp_str=hanja3&cstyle=D&no=9d935143&key_word=만&key2_word=&key3_word=&key4_word=&hoisu_over=&page=2&type=&istr=04&iistr=2\n",
      "http://hanja.sajuplus.net/?mnuid=1&idcnt=1&&tmp_str=hanja3&cstyle=D&no=9d9d5e43&key_word=봉&key2_word=&key3_word=&key4_word=&hoisu_over=&page=2&type=&istr=05&iistr=18\n",
      "http://hanja.sajuplus.net/?mnuid=1&idcnt=1&&tmp_str=hanja3&cstyle=D&no=949056&key_word=우&key2_word=&key3_word=&key4_word=&hoisu_over=&page=3&type=&istr=07&iistr=43\n",
      "http://hanja.sajuplus.net/?mnuid=1&idcnt=1&&tmp_str=hanja3&cstyle=D&no=9496574c&key_word=망&key2_word=&key3_word=&key4_word=&hoisu_over=&page=1&type=&istr=04&iistr=4\n",
      "http://hanja.sajuplus.net/?mnuid=1&idcnt=1&&tmp_str=hanja3&cstyle=D&no=9c9d5743&key_word=헌&key2_word=&key3_word=&key4_word=&hoisu_over=&page=1&type=&istr=13&iistr=12\n",
      "http://hanja.sajuplus.net/?mnuid=1&idcnt=1&&tmp_str=hanja3&cstyle=D&no=9194554f&key_word=류&key2_word=&key3_word=&key4_word=&hoisu_over=&page=1&type=&istr=03&iistr=27\n",
      "http://hanja.sajuplus.net/?mnuid=1&idcnt=1&&tmp_str=hanja3&cstyle=D&no=939d5449&key_word=영&key2_word=&key3_word=&key4_word=&hoisu_over=&page=3&type=&istr=07&iistr=27\n",
      "http://hanja.sajuplus.net/?mnuid=1&idcnt=1&&tmp_str=hanja3&cstyle=D&no=96925f&key_word=응&key2_word=&key3_word=&key4_word=&hoisu_over=&page=1&type=&istr=07&iistr=60\n",
      "http://hanja.sajuplus.net/?mnuid=1&idcnt=1&&tmp_str=hanja3&cstyle=D&no=96935748&key_word=교&key2_word=&key3_word=&key4_word=&hoisu_over=&page=3&type=&istr=00&iistr=38\n",
      "http://hanja.sajuplus.net/?mnuid=1&idcnt=1&&tmp_str=hanja3&cstyle=D&no=9495544b&key_word=류&key2_word=&key3_word=&key4_word=&hoisu_over=&page=1&type=&istr=03&iistr=27\n",
      "http://hanja.sajuplus.net/?mnuid=1&idcnt=1&&tmp_str=hanja3&cstyle=D&no=91935e4b&key_word=왜&key2_word=&key3_word=&key4_word=&hoisu_over=&page=1&type=&istr=07&iistr=38\n"
     ]
    }
   ],
   "source": [
    "with open('../hanja_details_urls', 'r', encoding='utf-8') as file:\n",
    "    maximum = 20\n",
    "    for line in file:\n",
    "      print(line.strip())\n",
    "      maximum = maximum - 1\n",
    "      if maximum == 0:\n",
    "        break"
   ]
  }
 ],
 "metadata": {
  "colab": {
   "provenance": []
  },
  "kernelspec": {
   "display_name": "Python 3 (ipykernel)",
   "language": "python",
   "name": "python3"
  },
  "language_info": {
   "codemirror_mode": {
    "name": "ipython",
    "version": 3
   },
   "file_extension": ".py",
   "mimetype": "text/x-python",
   "name": "python",
   "nbconvert_exporter": "python",
   "pygments_lexer": "ipython3",
   "version": "3.11.9"
  }
 },
 "nbformat": 4,
 "nbformat_minor": 4
}
